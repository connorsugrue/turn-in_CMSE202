{
 "cells": [
  {
   "cell_type": "markdown",
   "id": "06ed618e",
   "metadata": {},
   "source": [
    "# CMSE 202 Final Exam (Sect. 001 -- Spring 2023)"
   ]
  },
  {
   "cell_type": "markdown",
   "id": "1399da92",
   "metadata": {},
   "source": [
    "### <p style=\"text-align: right;\"> &#9989; Connor Sugrue</p>\n",
    "### <p style=\"text-align: right;\"> &#9989; connorsugrue</p>"
   ]
  },
  {
   "cell_type": "markdown",
   "id": "4c9f1c87",
   "metadata": {},
   "source": [
    "---\n",
    "The goal of this final is to give you the opportunity to test out some of the skills that you've developed this semester. In particular, you'll reflect on what you know about writing code using Python and showcase some of your new programming skills.\n",
    "\n",
    "**Important note about using online resources:** This exam is \"open internet\". That means that you can look up documentation, google how to accomplish certain Python tasks, etc. Being able to effectively use the internet for computational modeling and data science is a very important skill, so we want to make sure you have the opportunity to exercise that skill. **However, the use of any person-to-person communication software is absolutely not acceptable.**\n",
    "\n",
    "**Do your own work.** This final is designed to give you the opportunity to show the instructor what you can do and you should hold yourself accountable for maintaining a high level of academic integrity. Any violation of academic integrity could result in you receiving a zero on the final.\n",
    "\n",
    "You are encouraged to look through the entire exam before you get started so that you can appropriately budget your time and understand the broad goals of the exam.\n",
    "\n",
    "\n",
    "While the exam will be *open* for 8 hours, **you should only take two hours on the exam.** The exam was written to take two hours. We'll be going on the honor system for this. There are times when instructors will be available to answer questions. \n",
    "\n",
    "If you cannot complete the code or your cells do not run, just provide your code **as complete as possible**.\n",
    "\n",
    "\n",
    "### Content Knowledge Tested\n",
    "- Using Github to save and track progress on your work\n",
    "- Effectively visualizing data\n",
    "- Using ML tools to create a classification model\n",
    "- Quantitatively evaluating classification models"
   ]
  },
  {
   "cell_type": "markdown",
   "id": "59b2d215",
   "metadata": {},
   "source": [
    "---\n",
    "## Part 0: Academic integrity statement\n",
    "\n",
    "Read the following statement and edit the markdown text to put your name in the statement. This is your commitment to doing your own authentic work on this exam."
   ]
  },
  {
   "cell_type": "markdown",
   "id": "5ab8b930",
   "metadata": {},
   "source": [
    "> I, **INSERT NAME HERE**, affirm that this exam represents my own authetic work, without the use of any unpermitted aids or resources or person-to-person communication. I understand that this exam is an opportunity to showcase my own progress in developing and improving my computational skills and have done my best to demonstrate those skills.\n",
    "\n",
    "**Record the time you start here in the next cell:**"
   ]
  },
  {
   "cell_type": "markdown",
   "id": "1a9cd809",
   "metadata": {},
   "source": []
  },
  {
   "cell_type": "markdown",
   "id": "a93190a7",
   "metadata": {},
   "source": [
    "---\n",
    "## Part 1: Add to your Git repository to track your progress on your exam (10 points total)\n",
    "\n",
    "Before you get to far along in the exam, you're going to add it to the `cmse202-S23-turnin` repository you created in class so that you can track your progress on the exam and preserve the final version that you turn in. In order to do this you need to\n",
    "\n",
    "### Part 1.1 (4 Points)\n",
    "\n",
    "1. Navigate to your `cmse202-S23-turnin` repository and create a new directory called `final`.\n",
    "2. Move this notebook into that **new directory** in your repository, then **add it and commit it to your repository**.\n",
    "3. Finally, to test that everything is working, \"git push\" the file so that it ends up in your GitHub repository.\n",
    "\n",
    "**Important**: Double check you've added your Professor and your TA as collaborators to your \"turnin\" respository (you should have done this in the previous homework assignment).\n",
    "\n",
    "**Also important**: Make sure that the version of this notebook that you are working on is the same one that you just added to your repository! If you are working on a different copy of the noteobok, **none of your changes will be tracked**!\n",
    "\n",
    "The file should now show up on your GitHub account in the `cmse202-S23-turnin` repository inside the `final` directory you just created.  Periodically, **you'll be asked to commit your changes to the repository and push them to the remote GitHub location**. It can be good to get into a habit of committing your changes any time you make a significant modification."
   ]
  },
  {
   "cell_type": "markdown",
   "id": "ff493aeb",
   "metadata": {},
   "source": [
    "---\n",
    "## Part 2 (10 Points)\n",
    "\n",
    "For this exam, you’ll be working with a data set that contains measurements of the physical characteristics of three penguin species (e.g., culmen legnth, culmen depth, flipper length, and body mass). This data set is modified from the one associated with a research article (https://journals.plos.org/plosone/article?id=10.1371/journal.pone.0090081). We’ll ask you a set of questions that center the classification of these penguins using techniques you’ve worked with in class and on the homework. \n",
    "\n",
    "<img src=\"\n",
    "https://pbs.twimg.com/media/EaAWkZ0U4AA1CQf?format=jpg&name=4096x4096\" border=\"0\" align=\"center\" width=\"800\">\n",
    "\n",
    "<img src=\"https://pbs.twimg.com/media/EaAXQn8U4AAoKUj?format=jpg&name=4096x4096\" border=\"0\" align=\"center\" width=\"400\">\n",
    "images found online.\n",
    "\n",
    "To get started, let’s grab the dataset we’ll be working with.\n",
    "\n",
    "**(2 pt) Use the following URL to download the dataset.**\n",
    "\n",
    "`https://raw.githubusercontent.com/huichiayu/cmse_202_802/main/data/Penguin_data.csv`"
   ]
  },
  {
   "cell_type": "code",
   "execution_count": null,
   "id": "2d6212d2",
   "metadata": {},
   "outputs": [],
   "source": [
    "## your code\n",
    "\n"
   ]
  },
  {
   "cell_type": "markdown",
   "id": "50e4aa0d",
   "metadata": {},
   "source": [
    "**(3 pt) Import the dataset in the cell below.** Examine the data and see what features are in the data."
   ]
  },
  {
   "cell_type": "code",
   "execution_count": null,
   "id": "eac1ee51",
   "metadata": {},
   "outputs": [],
   "source": [
    "## your code\n",
    "\n"
   ]
  },
  {
   "cell_type": "markdown",
   "id": "dce3f1a9",
   "metadata": {},
   "source": [
    "**(5 pt) Now let's extract the useful data for classification.** Create a new data frame that contains only culmen lenth, culmen depth, flipper length, body mass, and species.\n"
   ]
  },
  {
   "cell_type": "code",
   "execution_count": null,
   "id": "5fed8e85",
   "metadata": {},
   "outputs": [],
   "source": [
    "## your code \n"
   ]
  },
  {
   "cell_type": "markdown",
   "id": "e773d97c",
   "metadata": {},
   "source": [
    "---\n",
    "## Part 3 (15 Points)\n",
    "\n",
    "Use Seaborn to make a visualization showing the distributions (i.e.,scatterplots) of each of the different penguin characteristics. Your visualization should represent each of the different penguin species/classes as a different color. This should all be a single figure. Use the [**examples in the seaborn gallery**](https://seaborn.pydata.org/examples/index.html) to help you find the right type of figure. (Note: There are several types of figures that will work for this.)"
   ]
  },
  {
   "cell_type": "code",
   "execution_count": null,
   "id": "3b3e9d97",
   "metadata": {},
   "outputs": [],
   "source": [
    "## your code\n"
   ]
  },
  {
   "cell_type": "markdown",
   "id": "3a273ecf",
   "metadata": {},
   "source": [
    "## Part 4 (10 Points)\n",
    "\n",
    "Look at the distributions of the data. Without doing any model fitting (i.e., just by eye), which pair of measured characteristics do you think would be **easiest** for an ML technique to differentiate between? Which pair of seeds do you believe would be **hardest** to separate? **Why?** Justify your answers using your visualization."
   ]
  },
  {
   "cell_type": "markdown",
   "id": "5e3ed125",
   "metadata": {},
   "source": [
    "Write your answers here.\n",
    "\n"
   ]
  },
  {
   "cell_type": "markdown",
   "id": "3a0dc9cd",
   "metadata": {},
   "source": [
    "---\n",
    "### &#128721; STOP (2 points)\n",
    "**Pause to commit your changes to your Git repository!**\n",
    "\n",
    "Take a moment to save your notebook, commit and push the changes to your Git repository.\n",
    "\n",
    "---"
   ]
  },
  {
   "cell_type": "markdown",
   "id": "c071e0f3",
   "metadata": {},
   "source": [
    "## Part 5 (5 Points)\n",
    "\n",
    "Split the data into a training and testing set. Pick a reasonable train size. \n",
    "Also, for `random_state`, if your birthday is on an odd date of a month, set it to be 35. Otherwise, set it to 42."
   ]
  },
  {
   "cell_type": "code",
   "execution_count": null,
   "id": "dc5ca070",
   "metadata": {},
   "outputs": [],
   "source": [
    "## your code\n",
    "\n",
    "\n"
   ]
  },
  {
   "cell_type": "markdown",
   "id": "8fca903d",
   "metadata": {},
   "source": [
    "---\n",
    "## Part 6 (20 Points)\n",
    "\n",
    "Create and train a SVM model for classifying the data. **Note:** You may get multiple warnings when creating your model (warnings are *pink*). You may also get a warning about a failure to converge. It is fine to ignore these warnings. "
   ]
  },
  {
   "cell_type": "code",
   "execution_count": null,
   "id": "b85213f3",
   "metadata": {},
   "outputs": [],
   "source": [
    "## your code\n",
    "\n"
   ]
  },
  {
   "cell_type": "markdown",
   "id": "7e6186fb",
   "metadata": {},
   "source": [
    "---\n",
    "## Part 7 (5 Points)\n",
    "\n",
    "**Evaluate your model by finding the accuracy, recall, precision, and confusion matrix using the test data.**"
   ]
  },
  {
   "cell_type": "code",
   "execution_count": null,
   "id": "d6b4af2f",
   "metadata": {},
   "outputs": [],
   "source": [
    "## your code\n"
   ]
  },
  {
   "cell_type": "markdown",
   "id": "6468d775",
   "metadata": {},
   "source": [
    "---\n",
    "### &#128721; STOP (2 points)\n",
    "**Pause to commit your changes to your Git repository!**\n",
    "\n",
    "Take a moment to save your notebook, commit and push the changes to your Git repository.\n",
    "\n",
    "---"
   ]
  },
  {
   "cell_type": "markdown",
   "id": "019d8d62",
   "metadata": {},
   "source": [
    "\n",
    "## Part 8 (7 Points)\n",
    "\n",
    "I caught a penguin. It has a short (40 mm in length) and mediate-thick (17 mm in depth) bill. Its flippers are short (190 mm). It's kinda skinny, weighing 3000 g, What is its species determined by your classifier?"
   ]
  },
  {
   "cell_type": "code",
   "execution_count": null,
   "id": "e11c44fe",
   "metadata": {},
   "outputs": [],
   "source": [
    "## your code\n",
    "\n"
   ]
  },
  {
   "cell_type": "markdown",
   "id": "f7adeef0",
   "metadata": {},
   "source": [
    "write your answer here."
   ]
  },
  {
   "cell_type": "markdown",
   "id": "579fd697",
   "metadata": {},
   "source": [
    "---\n",
    "## Part 9 (7 Points)\n",
    "\n",
    "**Let's try to use `LogisticRegression` function in sklearn to classify the same data.** Note that we are **not** using `statsmodels` here. Import logistic regression function from sklearn and build logistic regression model to classify the penguin data."
   ]
  },
  {
   "cell_type": "code",
   "execution_count": null,
   "id": "3a3840b8",
   "metadata": {},
   "outputs": [],
   "source": [
    "## your code\n",
    "\n",
    "\n"
   ]
  },
  {
   "cell_type": "markdown",
   "id": "3f46abcf",
   "metadata": {},
   "source": [
    "---\n",
    "## Part 10 (3 Points)\n",
    "\n",
    "**Evaluate your model by finding the accuracy, recall, precision, and confusion matrix using the test data.**"
   ]
  },
  {
   "cell_type": "code",
   "execution_count": null,
   "id": "7c1e89cf",
   "metadata": {},
   "outputs": [],
   "source": [
    "## your code\n",
    "\n"
   ]
  },
  {
   "cell_type": "markdown",
   "id": "8bd46355",
   "metadata": {},
   "source": [
    "**Compare to SVM, does Logisitic Regression give better result?**"
   ]
  },
  {
   "cell_type": "markdown",
   "id": "02b510a6",
   "metadata": {},
   "source": [
    "write your answer here\n"
   ]
  },
  {
   "cell_type": "markdown",
   "id": "86e5341d",
   "metadata": {},
   "source": [
    "---\n",
    "## Part 11 (8 Points)\n",
    "Reflect on you have learned  in this class. What can we do to improve the accuracy of the classifiers? "
   ]
  },
  {
   "cell_type": "markdown",
   "id": "7cb7e237",
   "metadata": {},
   "source": [
    "write your answer here"
   ]
  },
  {
   "cell_type": "markdown",
   "id": "9b041dd4",
   "metadata": {},
   "source": [
    "---\n",
    "### &#128721; STOP (2 points)\n",
    "**Pause to commit your changes to your Git repository!**\n",
    "\n",
    "Take a moment to save your notebook, commit and push the changes to your Git repository.\n",
    "\n",
    "---\n",
    "**Record the time you finish here in the next cell.**"
   ]
  },
  {
   "cell_type": "markdown",
   "id": "622ca306",
   "metadata": {},
   "source": []
  },
  {
   "cell_type": "markdown",
   "id": "397b25c5",
   "metadata": {},
   "source": [
    "## You're done! Congrats on finishing CMSE 202!\n",
    "Don't forget to also upload this file to D2L drop box."
   ]
  }
 ],
 "metadata": {
  "kernelspec": {
   "display_name": "Python 3",
   "language": "python",
   "name": "python3"
  },
  "language_info": {
   "codemirror_mode": {
    "name": "ipython",
    "version": 3
   },
   "file_extension": ".py",
   "mimetype": "text/x-python",
   "name": "python",
   "nbconvert_exporter": "python",
   "pygments_lexer": "ipython3",
   "version": "3.8.8"
  }
 },
 "nbformat": 4,
 "nbformat_minor": 5
}
