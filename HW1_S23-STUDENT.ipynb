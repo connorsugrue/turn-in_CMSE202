{
 "cells": [
  {
   "cell_type": "markdown",
   "metadata": {
    "id": "oaGzBYqYZa9f"
   },
   "source": [
    "# Homework Assignment 1 (Individual)\n",
    "## Git practice, debugging practice, and new Python packages"
   ]
  },
  {
   "cell_type": "markdown",
   "metadata": {
    "id": "CPPmlZrQZcAQ"
   },
   "source": [
    "### <p style=\"text-align: right;\"> &#9989; Connor Sugrue</p>\n",
    "### <p style=\"text-align: right;\"> &#9989; git hub username: connorsugrue</p>"
   ]
  },
  {
   "cell_type": "markdown",
   "metadata": {
    "id": "iQj_paJ9ZdmJ"
   },
   "source": [
    "\n",
    "### Goals for this homework assignment\n",
    "By the end of this assignment, you should be able will:\n",
    "* Demonstrate the purpose and utility of Git and demonstrate a workflow in practice.\n",
    "* Use Git to create a repository, track changes to the files within the repository, and push those changes to a remote repository.\n",
    "* Articulate the most common debugging strategies\n",
    "* Debug some basic Python code.\n",
    "* Read documentation and example code to use a new Python package\n",
    "\n",
    "Work through the following assignment, making sure to follow all of the directions and answer all of the questions.\n",
    "\n",
    "There are **100 points** possible on this assignment. Point values for each part are included in the section headers and question prompts.\n",
    "\n",
    "**This assignment is due roughly two weeks from now at 11:59 pm on Friday, February 3rd.** It should be uploaded into the \"Homework Assignments\" submission folder for Homework #1 on D2L.  Submission instructions can be found at the end of the notebook. "
   ]
  },
  {
   "cell_type": "markdown",
   "metadata": {
    "id": "-lMRNRFDZBlh"
   },
   "source": [
    "# Part 0: Office Hours and Academic Integrity (10 points)\n",
    "\n",
    "## Academic integrity statement (2 Points)\n",
    "\n",
    "In the markdown cell below, paste your personal academic integrity statement. By including this statement, you are confirming that you are submitting this as your own work and not that of someone else.\n"
   ]
  },
  {
   "cell_type": "markdown",
   "metadata": {
    "id": "dyaVnz36ZDhX"
   },
   "source": [
    "<font size=6 color=\"#009600\">&#9998;</font> I, Connor Sugrue, will strive to uphold values of the highest ethical standard.  I will practice honesty in my work, foster honesty in my peers, and take pride in knowing that honor is worth more than grades."
   ]
  },
  {
   "cell_type": "markdown",
   "metadata": {
    "id": "FpV1F8X5ZGyn"
   },
   "source": [
    "## Going to Office Hours (8 Points)\n",
    "\n",
    "### Why are we doing this?\n",
    "We want to make sure that everyone knows how to access the resources\n",
    "available to you. One of the best resources you have at your disposal is office hours.\n",
    "\n",
    "### What will you do?\n",
    "(At minimum) Go to one office hour session ​(it doesn’t matter which one you go to). Come with one question that you would like to talk about. It can be big or small. Ask your question. All of the instructors for CMSE 202 (section leads, TAs, and LAs) will be adding to a running list of folks that we see during office hours; as long as your name appears on the list, you’ll get credit for this part of Homework 1.\n",
    "\n",
    "**NOTE:** The day when the homework is due (**Friday, February 3rd**) will be the busiest time for folks to go to office hours. You are **STRONGLY** encouraged to go to office hours before Friday to get credit for this part of this assignment. (You should still feel free to go to office hours on Friday for help, though!)\n",
    "\n",
    "You can find the office hours calendar on the [course website](https://cmse.msu.edu/cmse202)."
   ]
  },
  {
   "cell_type": "markdown",
   "metadata": {
    "id": "Ycc8us9qZRbQ"
   },
   "source": [
    "**&#9989; **Question 0.1 (8 points)****\n",
    "\n",
    "Type below the question you asked."
   ]
  },
  {
   "cell_type": "markdown",
   "metadata": {
    "id": "QHtvFWdQZSkF"
   },
   "source": [
    "<font size=6 color=\"#009600\">&#9998;</font> I came to ask about refreshing the terminal and what happens when I did that. Dr. Kerzendorf explained to me that refreshing the terminal does not reset my position in the terminal. He also taught me about the history function and how it can be used to see a comprehensive list of all the commands you have used in the past."
   ]
  },
  {
   "cell_type": "markdown",
   "metadata": {
    "id": "Ouu4YtGnRm_2"
   },
   "source": [
    "# Part 1: Designing a Workflow with Git (30 points total)\n",
    "\n",
    "You have spent some time in class learning about how/why we use git in CMSE 202 and beyond, and you will be expected to use it throughout the semester.\n",
    "\n",
    "## 1.1 Propose a Software Development Workflow (10 points)\n",
    "\n",
    "You are working collaboratively with a team on a research project that includes developing code as well as writing a paper to communicate your results, and you need to ensure that all work is managed and tracked with git. Since you are learning about git in your class, your groupmates have asked you to propose a software development workflow for this project. Here, workflow is defined as the process by which the project is managed and developed.\n",
    "\n",
    "Your workflow must (at least) handle the following:\n",
    "1. What role (or roles) will each person have?\n",
    "2. How will changes be made/tracked?\n",
    "3. What are your requirements for commit messages?\n",
    "4. How do you expect people to work on their portions of the projects (using branches/merges)?\n",
    "\n",
    "In the cell below, write down the guidelines for your proposed workflow, making sure to account for all of the items mentioned above.\n"
   ]
  },
  {
   "cell_type": "markdown",
   "metadata": {
    "id": "GFkl_ExSWFv7"
   },
   "source": [
    "<font size=+3>&#9998;</font> 1. Each person is required, to write their own individual code and commit with specific descriptions about what you changed and did and push it to the git repository. Every person will be assigned a specific portion of code to write. Each individual also must help contriubute to an outline for the write up. add, commit, and push your edits and ideas to the text file on the git repository. 2. I will be monitoring through git when and who has made edits/suggestions to the main file. This is how I can ensure that everyone is working equally. 3. The requirements for commiting messages is that everyone includes their name along with specific detail where changes were made, as well as the purpose of the changes. 4. On the git hub repository there is a file that everyone can download locally. I expect everyone to make a branch on their computer and then merge their changes to the master file on github so I can decide whether or not to accept the edits."
   ]
  },
  {
   "cell_type": "markdown",
   "metadata": {
    "id": "Jvto9V5XWBHu"
   },
   "source": [
    "\n",
    "\n",
    "\n",
    "## 1.2 Testing Your Workflow (10 points)\n",
    "\n",
    "In the cell(s) below, demonstrate that your workflow works by performing (or answering) the following tests:\n",
    "\n",
    "1. A new person is joining your team, but they have never coded before and are concerned about making changes that might break your code. According to your workflow, what should their role be, and how should they make changes to the code?\n",
    "2. Using vi (or your favorite text editor), create a file called paper_draft.txt. Following your workflow, make and commit changes to that file. Copy and paste any command line interface commands you use in the cell below.\n",
    "\n",
    "\n",
    "\n",
    "\n"
   ]
  },
  {
   "cell_type": "markdown",
   "metadata": {
    "id": "oOFbq1cLZZWR"
   },
   "source": [
    "<font size=+3>&#9998;</font> 1. The new person should download the file from github to their local main branch on thier computer, then make a separate branch to make their edits. The new person is free to do whatever they like and the owner of the file can decide which changes to accept after he has merged his changes."
   ]
  },
  {
   "cell_type": "code",
   "execution_count": 2,
   "metadata": {
    "id": "Cyo2eBLHZeWW"
   },
   "outputs": [
    {
     "ename": "SyntaxError",
     "evalue": "invalid syntax (<ipython-input-2-7d855ca7be41>, line 1)",
     "output_type": "error",
     "traceback": [
      "\u001b[0;36m  File \u001b[0;32m\"<ipython-input-2-7d855ca7be41>\"\u001b[0;36m, line \u001b[0;32m1\u001b[0m\n\u001b[0;31m    vi paper_draft.txt\u001b[0m\n\u001b[0m       ^\u001b[0m\n\u001b[0;31mSyntaxError\u001b[0m\u001b[0;31m:\u001b[0m invalid syntax\n"
     ]
    }
   ],
   "source": [
    "vi paper_draft.txt\n",
    "git add paper_draft.txt\n",
    "git commit -m \"Connor Sugrue made edits describing how the universe is locally not real\"\n",
    "git push"
   ]
  },
  {
   "cell_type": "markdown",
   "metadata": {
    "id": "ZRnZNfSsXRIv"
   },
   "source": [
    "## 1.3 Reflecting (10 points)\n",
    "\n",
    "Answer the following questions in the cell below about your workflow:\n",
    "\n",
    "1. What challenges/bugs did you run into when testing your workflow? How might you design for them in the future?\n",
    "2. What worked well with your workflow?"
   ]
  },
  {
   "cell_type": "markdown",
   "metadata": {
    "id": "Lr1LmKb9aSdm"
   },
   "source": [
    "<font size=+3>&#9998;</font> 1. Some bugs I ran into were people were not sure what changes to make on the on the project, I should've specified more specific directions and what people should do. In the future I think I should write more thorough step-by-step instructions so collaborators are stuck at small steps.       2. Something that worked well with my workflow was people understood the idea of cloning a copy and pushing it to github."
   ]
  },
  {
   "cell_type": "markdown",
   "metadata": {
    "id": "cImTyMz-W_jX"
   },
   "source": [
    "## &#128721; STOP **COMMIT YOUR WORK TO GIT NOW**\n",
    "\n",
    "You should commit early and often, but at least do it after you complete each homework problem. \n",
    "\n",
    "Make sure to use meaningful commit messages that indicate the changes you have made!"
   ]
  },
  {
   "cell_type": "markdown",
   "metadata": {
    "id": "CPTa3YYWYjJG"
   },
   "source": [
    "# Part 2: Debugging Code (30 points total)\n",
    "\n",
    "Bugs are a part of life in writing code. They do not mean you are not making progress at coding. However, you can employ various debugging strategies to help you work through bugs efficiently and confidently.\n",
    "\n",
    "## 2.1 Helping a CMSE 201 Student (10 points)\n",
    "\n",
    "In the cell below, explain debugging to a CMSE 201 student, and describe the process you would recommend they use to debug their code. You must include how you would solve the various types of bugs you can encounter while coding. Remember all of the resources you can use in CMSE 201/202 (particularly Google or other search engines!).\n",
    "\n"
   ]
  },
  {
   "cell_type": "markdown",
   "metadata": {
    "id": "UslFH5ffbX80"
   },
   "source": [
    "<font size=+3>&#9998;</font> Debugging means that there is an error with the code, and the error code will appear in which the error happens. So if there are 20 lines of code and a bug on line 5 and 19, the first error to show up will be the one on line 5. The steps I take when approaching debugging is to thoroughly read the error code and find the line in which the bug is occurring. Look for small mistakes, such as missed commas or parenthesis. The error code can help guide you in figuring out what is wrong, for example a \"Sytanx\" error mean there is something small wrong, such as a missed comma, or equal sign. If you are working with a lot of code, a process I find helpful is to copy and paste the smaller portion of the code where the error is occurring into a separate file and work out the error from there. If there is no error code, but you are not getting the proper output, try testing each component separately and make sure it is outputting something that makes sense. "
   ]
  },
  {
   "cell_type": "markdown",
   "metadata": {
    "id": "91ouG6LrbYAZ"
   },
   "source": [
    "## 2.2 Working Through Bugs (20 points total)\n",
    "\n",
    "### 2.2.1 A Squirrelly Situation (10 points)\n",
    "\n",
    "Run the code in the cell below. There are (at least) 2 bugs to find and fix! Complete the following questions:\n",
    "\n",
    "1. Apply your debugging process to solve the bug(s) (showing the corrected code).\n",
    "2. Did your process work? If so, continue to the next problem. If not, describe why and indicate any changes you would make to your process.\n",
    "\n",
    "\n"
   ]
  },
  {
   "cell_type": "code",
   "execution_count": 3,
   "metadata": {
    "colab": {
     "base_uri": "https://localhost:8080/"
    },
    "id": "QDp4prBRg9Wn",
    "outputId": "0bddf470-9d92-4f7e-e8c4-39b3a83b4e2f"
   },
   "outputs": [
    {
     "name": "stdout",
     "output_type": "stream",
     "text": [
      "14\n"
     ]
    }
   ],
   "source": [
    "# function that returns a random number of squirrels spotted between 0 and the limit\n",
    "def squirrel_spotting_simulation(limit=15):\n",
    "    import numpy as np\n",
    "    random_squirrels = np.random.randint(limit)\n",
    "    return random_squirrels\n",
    "\n",
    "# initialize number of squirrels\n",
    "squirrel_count = 0\n",
    "# initialize number of time steps\n",
    "t = 0\n",
    "\n",
    "# loop until the observer reaches a maximum of 100 squirrels spotted\n",
    "while squirrel_count <= 100:\n",
    "    # use our function to generate a random number of squirrels spotted\n",
    "    increment = squirrel_spotting_simulation()\n",
    "    # increment the number of time steps by 1\n",
    "    t+=1\n",
    "    # add the number of random squirrels this time step to the total number\n",
    "    squirrel_count+=increment\n",
    "\n",
    "# print the total number of timesteps it took\n",
    "print(t)"
   ]
  },
  {
   "cell_type": "markdown",
   "metadata": {
    "id": "9DFy6pqkg84W"
   },
   "source": [
    "<font size=+3>&#9998;</font> I changes what was inside the function, the value the random part was using specifically. My process worked very well, specifically the part where I made a separate file and tested specific parts of the code which helped me identitfy the bug."
   ]
  },
  {
   "cell_type": "markdown",
   "metadata": {
    "id": "v3dwJ0nueFJ9"
   },
   "source": [
    "## 2.2.2 Plotting and Scheming\n",
    "\n",
    "Run the code in the cell below, then answer the following questions:\n",
    "set_xlabel vs. label\n",
    "\n",
    "\n",
    "1. Apply your debugging process to solve the bug (showing the corrected code).\n",
    "2. Did your process work? If so, continue to the next problem. If not, describe why and indicate any changes you would make to your process."
   ]
  },
  {
   "cell_type": "code",
   "execution_count": 4,
   "metadata": {
    "id": "KvwNCSVWtEhP"
   },
   "outputs": [
    {
     "data": {
      "text/plain": [
       "<matplotlib.legend.Legend at 0x7f9162548a00>"
      ]
     },
     "execution_count": 4,
     "metadata": {},
     "output_type": "execute_result"
    },
    {
     "data": {
      "image/png": "[encoded data removed]",
      "text/plain": [
       "<Figure size 432x288 with 1 Axes>"
      ]
     },
     "metadata": {
      "needs_background": "light"
     },
     "output_type": "display_data"
    }
   ],
   "source": [
    "# code to plot two randomly generated data sets (sin and cos) on one plot\n",
    "\n",
    "import matplotlib.pyplot as plt\n",
    "import numpy as np\n",
    "\n",
    "# generate some x data: sixty data points from 0 to 4π\n",
    "x_sin = np.linspace(0,4*np.pi,60)\n",
    "\n",
    "# generate some y data: 1.5 * sin(1.2x + 0.5)\n",
    "# we add the np.random.normal(0.25,.25,60) at the end to add some randomness to the data\n",
    "y_sin = 1.5 * np.sin(1.2 * x_sin) + np.random.normal(.25,.25,60)\n",
    "\n",
    "y_cos = 1.5 * np.cos(1.2 * x_sin) + np.random.normal(.25,.25,60)\n",
    "# plot our data\n",
    "plt.scatter(x_sin, y_sin, label = \"sin data\")\n",
    "plt.scatter(x_sin, y_cos, label = \"cos data\")\n",
    "plt.xlabel('x')\n",
    "plt.ylabel('y')\n",
    "plt.title(\"Scatter of sin vs. cos\")\n",
    "plt.legend()\n"
   ]
  },
  {
   "cell_type": "markdown",
   "metadata": {
    "id": "gdi1OLFurcgn"
   },
   "source": [
    "<font size=+3>&#9998;</font> 1. My debugging process workes? I realized that one one of the graphs there was no legend (or key) and on the other there was no legend. That was because the second plt.scatter was in the wrong location on the line. If I wanted two separate graphs I would have to have plt.xlabel, plt.ylabel, and plt.legend 2 separate times so they are applied to each"
   ]
  },
  {
   "cell_type": "markdown",
   "metadata": {
    "id": "w0jXfIeUpgty"
   },
   "source": [
    "## &#128721; STOP **COMMIT YOUR WORK TO GIT NOW**\n",
    "\n",
    "You should commit early and often, but at least do it after you complete each homework problem."
   ]
  },
  {
   "cell_type": "markdown",
   "metadata": {
    "id": "-y69UHzUdSEp"
   },
   "source": [
    "# Part 3: New Packages (25 points total)\n",
    "\n",
    "In Part 1, you developed a workflow for the project your team is working on. One of your team members found this package that will help with some of the visualizations, however you discover that you don't currently have this package installed. \n",
    "\n",
    "A quick Google search tells you that the plotly Python library is an interactive, open-source plotting library that supports over 40 unique chart types covering a wide range of statistical, financial, geographic, scientific, and 3-dimensional use-cases. Sounds great, let's figure this out!\n",
    "\n",
    "## 3.1 Install Package using CLI\n",
    "You remember from class that you can install packages using the command line. Using your terminal, install the plotly package, then answer the following questions.\n",
    "\n",
    "### 3.1.1 (5 points): \n",
    "\n",
    "In the cell below, write down the command you used to install the package. "
   ]
  },
  {
   "cell_type": "markdown",
   "metadata": {
    "id": "fPWkcX5F0Xnw"
   },
   "source": [
    "<font size=6 color=\"#009600\">&#9998;</font> pip install plotly==5.13.0\n"
   ]
  },
  {
   "cell_type": "markdown",
   "metadata": {},
   "source": [
    "# IMPORTANT NOTE\n",
    "\n",
    "Particularly if you are using JupyterHub, you may get a message similar to this one in your terminal:\n",
    "\n",
    "![package_exists.jpg](https://raw.githubusercontent.com/msu-cmse-courses/cmse202-S23-data/main//HW/HW1/package_exists.jpg)\n",
    "\n",
    "This means that the package has already been installed. If that is the case, you still need to provide the command you *would* use to install the package above, and then proceed to the rest of this problem.\n"
   ]
  },
  {
   "cell_type": "markdown",
   "metadata": {
    "id": "NUzK-Xa-0Fid"
   },
   "source": [
    "### 3.2 Reading Package Documentation\n",
    "\n",
    "Now that you've installed Plotly, its time to explore the package! What can this package do? The best place to find this information is in the [documentation](https://plotly.com/). \n",
    "\n",
    "### 3.2.1 (10 points): \n",
    "\n",
    "Answer the following questions:\n",
    "1. What kind of package is Plotly? (e.g. Mathematical, Graphing, Statistical, etc.)?  \n",
    "2. How many different tabs exist in the Plotly Open Source Graphing Libraries?\n",
    "3. When would you use Plotly?\n",
    "4. Are there any packages you know that are similar to plotly?\n",
    "5. What are some different charts/plots you can create with Plotly?\n"
   ]
  },
  {
   "cell_type": "markdown",
   "metadata": {
    "id": "wr6SQ5kI_lrz"
   },
   "source": [
    "<font size=6 color=\"#009600\">&#9998;</font> 1. Plotly is a giant graphing resource that lets you get very creative with graphing.                 2. I counted about 8 different tabs.               3. It seems to me that there are endless opporutunities in which I could use plotly, one that peaks my interest is Choropleth, I would be interested in using that to plot where certain sports are popular in particular countries.               4. Plotly seems pretty similar to seaborn, but I have no experience with either.           5. Distplots, Heatmaps, Candlestick charts, and a cool sounding Volcano plot."
   ]
  },
  {
   "cell_type": "markdown",
   "metadata": {
    "id": "vPiM9hCV_lKw"
   },
   "source": [
    "### 3.3 Using The New Package\n",
    "Finally, it's time to use the newly installed package! Pick a dataset from the [data package](https://plotly.com/python-api-reference/generated/plotly.data.html) that is a part of Plotly. \n",
    "\n",
    "\n",
    "### 3.3.1 (10 points):\n",
    "\n",
    "Create a graph using one of these datasets. You can use the documentation for inspiration, but try to change the variables around so you get to really experience the package! Make sure to include titles and axis labels!\n",
    "\n"
   ]
  },
  {
   "cell_type": "code",
   "execution_count": 5,
   "metadata": {},
   "outputs": [],
   "source": [
    "import plotly\n",
    "import pandas as pd\n",
    "import numpy as np\n",
    "import matplotlib.pyplot as plt"
   ]
  },
  {
   "cell_type": "code",
   "execution_count": 6,
   "metadata": {},
   "outputs": [
    {
     "data": {
      "text/html": [
       "<div>\n",
       "<style scoped>\n",
       "    .dataframe tbody tr th:only-of-type {\n",
       "        vertical-align: middle;\n",
       "    }\n",
       "\n",
       "    .dataframe tbody tr th {\n",
       "        vertical-align: top;\n",
       "    }\n",
       "\n",
       "    .dataframe thead th {\n",
       "        text-align: right;\n",
       "    }\n",
       "</style>\n",
       "<table border=\"1\" class=\"dataframe\">\n",
       "  <thead>\n",
       "    <tr style=\"text-align: right;\">\n",
       "      <th></th>\n",
       "      <th>date</th>\n",
       "      <th>GOOG</th>\n",
       "      <th>AAPL</th>\n",
       "      <th>AMZN</th>\n",
       "      <th>FB</th>\n",
       "      <th>NFLX</th>\n",
       "      <th>MSFT</th>\n",
       "    </tr>\n",
       "  </thead>\n",
       "  <tbody>\n",
       "    <tr>\n",
       "      <th>0</th>\n",
       "      <td>2018-01-01</td>\n",
       "      <td>1.000000</td>\n",
       "      <td>1.000000</td>\n",
       "      <td>1.000000</td>\n",
       "      <td>1.000000</td>\n",
       "      <td>1.000000</td>\n",
       "      <td>1.000000</td>\n",
       "    </tr>\n",
       "    <tr>\n",
       "      <th>1</th>\n",
       "      <td>2018-01-08</td>\n",
       "      <td>1.018172</td>\n",
       "      <td>1.011943</td>\n",
       "      <td>1.061881</td>\n",
       "      <td>0.959968</td>\n",
       "      <td>1.053526</td>\n",
       "      <td>1.015988</td>\n",
       "    </tr>\n",
       "    <tr>\n",
       "      <th>2</th>\n",
       "      <td>2018-01-15</td>\n",
       "      <td>1.032008</td>\n",
       "      <td>1.019771</td>\n",
       "      <td>1.053240</td>\n",
       "      <td>0.970243</td>\n",
       "      <td>1.049860</td>\n",
       "      <td>1.020524</td>\n",
       "    </tr>\n",
       "    <tr>\n",
       "      <th>3</th>\n",
       "      <td>2018-01-22</td>\n",
       "      <td>1.066783</td>\n",
       "      <td>0.980057</td>\n",
       "      <td>1.140676</td>\n",
       "      <td>1.016858</td>\n",
       "      <td>1.307681</td>\n",
       "      <td>1.066561</td>\n",
       "    </tr>\n",
       "    <tr>\n",
       "      <th>4</th>\n",
       "      <td>2018-01-29</td>\n",
       "      <td>1.008773</td>\n",
       "      <td>0.917143</td>\n",
       "      <td>1.163374</td>\n",
       "      <td>1.018357</td>\n",
       "      <td>1.273537</td>\n",
       "      <td>1.040708</td>\n",
       "    </tr>\n",
       "    <tr>\n",
       "      <th>...</th>\n",
       "      <td>...</td>\n",
       "      <td>...</td>\n",
       "      <td>...</td>\n",
       "      <td>...</td>\n",
       "      <td>...</td>\n",
       "      <td>...</td>\n",
       "      <td>...</td>\n",
       "    </tr>\n",
       "    <tr>\n",
       "      <th>100</th>\n",
       "      <td>2019-12-02</td>\n",
       "      <td>1.216280</td>\n",
       "      <td>1.546914</td>\n",
       "      <td>1.425061</td>\n",
       "      <td>1.075997</td>\n",
       "      <td>1.463641</td>\n",
       "      <td>1.720717</td>\n",
       "    </tr>\n",
       "    <tr>\n",
       "      <th>101</th>\n",
       "      <td>2019-12-09</td>\n",
       "      <td>1.222821</td>\n",
       "      <td>1.572286</td>\n",
       "      <td>1.432660</td>\n",
       "      <td>1.038855</td>\n",
       "      <td>1.421496</td>\n",
       "      <td>1.752239</td>\n",
       "    </tr>\n",
       "    <tr>\n",
       "      <th>102</th>\n",
       "      <td>2019-12-16</td>\n",
       "      <td>1.224418</td>\n",
       "      <td>1.596800</td>\n",
       "      <td>1.453455</td>\n",
       "      <td>1.104094</td>\n",
       "      <td>1.604362</td>\n",
       "      <td>1.784896</td>\n",
       "    </tr>\n",
       "    <tr>\n",
       "      <th>103</th>\n",
       "      <td>2019-12-23</td>\n",
       "      <td>1.226504</td>\n",
       "      <td>1.656000</td>\n",
       "      <td>1.521226</td>\n",
       "      <td>1.113728</td>\n",
       "      <td>1.567170</td>\n",
       "      <td>1.802472</td>\n",
       "    </tr>\n",
       "    <tr>\n",
       "      <th>104</th>\n",
       "      <td>2019-12-30</td>\n",
       "      <td>1.213014</td>\n",
       "      <td>1.678000</td>\n",
       "      <td>1.503360</td>\n",
       "      <td>1.098475</td>\n",
       "      <td>1.540883</td>\n",
       "      <td>1.788185</td>\n",
       "    </tr>\n",
       "  </tbody>\n",
       "</table>\n",
       "<p>105 rows × 7 columns</p>\n",
       "</div>"
      ],
      "text/plain": [
       "           date      GOOG      AAPL      AMZN        FB      NFLX      MSFT\n",
       "0    2018-01-01  1.000000  1.000000  1.000000  1.000000  1.000000  1.000000\n",
       "1    2018-01-08  1.018172  1.011943  1.061881  0.959968  1.053526  1.015988\n",
       "2    2018-01-15  1.032008  1.019771  1.053240  0.970243  1.049860  1.020524\n",
       "3    2018-01-22  1.066783  0.980057  1.140676  1.016858  1.307681  1.066561\n",
       "4    2018-01-29  1.008773  0.917143  1.163374  1.018357  1.273537  1.040708\n",
       "..          ...       ...       ...       ...       ...       ...       ...\n",
       "100  2019-12-02  1.216280  1.546914  1.425061  1.075997  1.463641  1.720717\n",
       "101  2019-12-09  1.222821  1.572286  1.432660  1.038855  1.421496  1.752239\n",
       "102  2019-12-16  1.224418  1.596800  1.453455  1.104094  1.604362  1.784896\n",
       "103  2019-12-23  1.226504  1.656000  1.521226  1.113728  1.567170  1.802472\n",
       "104  2019-12-30  1.213014  1.678000  1.503360  1.098475  1.540883  1.788185\n",
       "\n",
       "[105 rows x 7 columns]"
      ]
     },
     "execution_count": 6,
     "metadata": {},
     "output_type": "execute_result"
    }
   ],
   "source": [
    "dataframe = plotly.data.stocks(indexed=False, datetimes=False)\n",
    "dataframe"
   ]
  },
  {
   "cell_type": "code",
   "execution_count": 29,
   "metadata": {},
   "outputs": [
    {
     "data": {
      "application/vnd.plotly.v1+json": {
       "config": {
        "plotlyServerURL": "https://plot.ly"
       },
       "data": [
        {
         "close": [
          1,
          1.0535263142643383,
          1.0498595254569378,
          1.3076813155940448,
          1.273536771428717,
          1.188008929282134,
          1.3263487897912096,
          1.3616362026373592,
          1.4336396058469547,
          1.5783608462698024,
          1.5165008067883996,
          1.4331158380609592,
          1.406495542490225,
          1.375541688281783,
          1.484118227436587,
          1.5608837620628662,
          1.484642138086525,
          1.5243106261176576,
          1.5546453794312736,
          1.5437877293254985,
          1.6728891882258874,
          1.7140339274719294,
          1.7170817582484463,
          1.866660325094997,
          1.9576645850358447,
          1.864041067097456,
          1.94414015086099,
          1.884851557577705,
          1.7193674908479577,
          1.691556657660921,
          1.633839648701375,
          1.647078369277624,
          1.50854798541483,
          1.7087480282692504,
          1.7509404459512254,
          1.660459949034241,
          1.7360826197418304,
          1.720034255916133,
          1.7816562507344105,
          1.6731749018244944,
          1.617029334324746,
          1.5842183202957685,
          1.4278298007564696,
          1.4719748494696214,
          1.4451640257830367,
          1.3629695899097676,
          1.2325348866009125,
          1.3625886860662726,
          1.262631595251403,
          1.2707271281792676,
          1.1733415549944868,
          1.2194865512765718,
          1.4170674789973934,
          1.6076479259096166,
          1.6148387919701228,
          1.6098384682642397,
          1.6184103905326357,
          1.6551740498315624,
          1.699461814861141,
          1.7287488945009553,
          1.7016048311442251,
          1.6648411718452985,
          1.721319979015192,
          1.7191771103581814,
          1.6979855684083631,
          1.7405113638622944,
          1.6721748970861734,
          1.716034084574645,
          1.7850849901165535,
          1.8335634546034707,
          1.7193199695385504,
          1.6879375377890014,
          1.6876518241903944,
          1.6347444679569396,
          1.7185103405278743,
          1.6178389585732904,
          1.758226497494488,
          1.7492261453110591,
          1.8122290534732837,
          1.7774655512770718,
          1.5005476379697218,
          1.5990284823318142,
          1.518310297673454,
          1.471165225221077,
          1.4419733358261506,
          1.3878755896024673,
          1.398876103650743,
          1.381827735086725,
          1.400780927644628,
          1.2893470810670251,
          1.2528214711933554,
          1.299061872016242,
          1.347349808387309,
          1.3110147218673576,
          1.3182532521012131,
          1.3658269020946976,
          1.388494690497293,
          1.4049716271019663,
          1.4785466146353017,
          1.4984522906221185,
          1.4636411194904255,
          1.421496227879989,
          1.6043620457078422,
          1.567169808867808,
          1.5408828958311611
         ],
         "high": [
          1,
          1.018172278347936,
          1.032007866452698,
          1.066782783389724,
          1.0087731636550117,
          0.9415276737437316,
          0.99325918262539,
          1.0222821547641083,
          0.9788520214265992,
          1.0524482730908842,
          1.0303929312465263,
          0.926821104067592,
          0.9360932452590338,
          0.913638710861412,
          0.93380695379017,
          0.9734447261178653,
          0.9345146364100892,
          0.9509902470625956,
          0.9963982380519172,
          0.9674568868105002,
          0.9758943718805396,
          1.015668254641377,
          1.0169111849053498,
          1.0453898287179595,
          1.0483111519067918,
          1.0121753574512644,
          1.0344211867653972,
          1.0785588920381208,
          1.075011617811375,
          1.1236312044424703,
          1.1102129167272332,
          1.1228237368393843,
          1.0895729410299655,
          1.1074367837463466,
          1.1052048693141154,
          1.0567939333314087,
          1.0637798374890872,
          1.0579370795194665,
          1.0827776350267664,
          1.0500077089175164,
          1.007121903906116,
          0.9947651405743836,
          0.9720929301886708,
          0.959681788913054,
          0.9672663993407256,
          0.9630385756700248,
          0.9289168536315806,
          0.992923504040418,
          0.9404389054995582,
          0.945446952912676,
          0.8886892896888904,
          0.9408925313390586,
          0.9714034098401132,
          0.9591373489949891,
          0.9963982380519172,
          0.989802500200548,
          1.0077298024501202,
          0.9934950771344468,
          1.0103608540932627,
          1.0073850422758417,
          1.035165084150587,
          1.0363716889645844,
          1.0746032883264525,
          1.0936918990354445,
          1.064487521016258,
          1.095188886079836,
          1.1049145977684258,
          1.1216987538299403,
          1.1541874899828073,
          1.075456162061569,
          1.0562859304552756,
          1.0544986709579427,
          1.0283425342867192,
          1.001270175031893,
          0.9671666152648106,
          0.98468558802946,
          1.0178275181736574,
          0.980657443195294,
          1.0266368965939394,
          1.0387124690620373,
          1.025285100664745,
          1.1344366027859267,
          1.0832494231376286,
          1.0778240762422375,
          1.068379555417282,
          1.0445098208996275,
          1.0779056980467905,
          1.0931748145700046,
          1.12459294475006,
          1.115856106545024,
          1.1114649285805127,
          1.0968672799119472,
          1.10271900878617,
          1.129972884606169,
          1.1477913211905195,
          1.155602744537941,
          1.189742629754999,
          1.2110630442115171,
          1.1751993590303178,
          1.183927115646047,
          1.216279741365772,
          1.222820990588552,
          1.22441776261611,
          1.2265044859331442,
          1.213013658002661
         ],
         "low": [
          1,
          1.0618806117055757,
          1.0532404284307677,
          1.1406756202628388,
          1.1633743377885228,
          1.0898676795580526,
          1.1786207619316666,
          1.2203654438831366,
          1.2205688381237838,
          1.284548542665418,
          1.2786826844946546,
          1.2167532101702832,
          1.1775224533715958,
          1.1432627388670606,
          1.16405781403187,
          1.242730666448932,
          1.2794473988384474,
          1.2862244591394254,
          1.3040906767647622,
          1.2808711585229775,
          1.3099809658381354,
          1.3355191588974509,
          1.3700554610940725,
          1.3960736368996989,
          1.3958296232020404,
          1.3829181608736414,
          1.391729163581091,
          1.4750394640760272,
          1.4755844971819587,
          1.4784890230752108,
          1.4833867718479574,
          1.5346502643964448,
          1.5313308069300795,
          1.5501814209506477,
          1.637494456642517,
          1.5881591374274802,
          1.6029011479217037,
          1.5580080272628667,
          1.6295946560652816,
          1.5373757268816928,
          1.4551718788522234,
          1.435174192909178,
          1.3365524179114776,
          1.3550368620941855,
          1.3931936419790223,
          1.2963616956201691,
          1.22204146042711,
          1.375083410656027,
          1.3254226411301075,
          1.295141330176286,
          1.1206615472526131,
          1.202483038516975,
          1.2817010232963573,
          1.334721869745653,
          1.3799892040777797,
          1.359137222458745,
          1.3230632475991762,
          1.2921391799289847,
          1.3081910371293215,
          1.3273996770823542,
          1.3600809993969647,
          1.3186455808291295,
          1.393136635454831,
          1.435776232539301,
          1.4487771761299302,
          1.4947687054188046,
          1.4994712046698764,
          1.5146280474808236,
          1.5869876346023932,
          1.596612214272432,
          1.537644171481961,
          1.5205753430783882,
          1.483378627942562,
          1.44415601504927,
          1.4677172714127285,
          1.521120475440709,
          1.5549896884611636,
          1.540613747734834,
          1.58070684404494,
          1.6361032717659916,
          1.5982882308164057,
          1.5808207570233568,
          1.4833460531345568,
          1.4706054102388,
          1.4583936118945735,
          1.4234505212166575,
          1.445148654606286,
          1.491701504811883,
          1.4964446227063888,
          1.4596872708598625,
          1.4037863302335007,
          1.4153391824933792,
          1.4090502488441077,
          1.4298696556551374,
          1.43297747571907,
          1.4574742658589632,
          1.452950830015895,
          1.4152089825177483,
          1.420277551536714,
          1.465089434095106,
          1.425061388144621,
          1.4326601685000062,
          1.4534552436648156,
          1.52122624451373,
          1.503360026888393
         ],
         "open": [
          1,
          1.0119428342857142,
          1.0197714685714288,
          0.9800571142857144,
          0.9171428571428571,
          0.8937714514285715,
          0.9853142457142856,
          1.002857142857143,
          1.006914325714286,
          1.02845712,
          1.0172571657142857,
          0.9425142971428572,
          0.9587428514285714,
          0.9621714571428572,
          0.99845712,
          0.9469714342857144,
          0.9275428971428572,
          1.0504571542857144,
          1.07765712,
          1.06462856,
          1.0776000114285715,
          1.0870857428571428,
          1.0954285542857145,
          1.0790856914285714,
          1.0566857028571428,
          1.0577714342857143,
          1.0741142914285715,
          1.093314297142857,
          1.0939428685714283,
          1.0913142628571428,
          1.1885143142857142,
          1.1858857085714285,
          1.2433142971428572,
          1.235200022857143,
          1.3007428857142855,
          1.2645714457142856,
          1.279085691428571,
          1.2437714514285716,
          1.2899428857142856,
          1.2816571028571428,
          1.2692000057142856,
          1.253199988571429,
          1.236000017142857,
          1.1855999771428571,
          1.1684000057142856,
          1.1058857085714286,
          0.9845142457142856,
          1.0204571542857144,
          0.9628000285714284,
          0.9455999771428572,
          0.8613142628571429,
          0.8927428342857143,
          0.8471999714285714,
          0.8702285314285714,
          0.8961143257142857,
          0.9014856857142858,
          0.95154288,
          0.9737714514285716,
          0.97382856,
          0.9884000057142855,
          0.9998285771428572,
          0.9880571657142858,
          1.0635428285714286,
          1.0917143028571428,
          1.0854285542857145,
          1.1257142857142857,
          1.1363999714285713,
          1.1649142914285715,
          1.1674285885714286,
          1.21,
          1.126742817142857,
          1.08,
          1.02268572,
          1.00040004,
          1.0865713942857145,
          1.1013714571428572,
          1.135885708571429,
          1.130971417142857,
          1.167028548571429,
          1.1617143028571428,
          1.15765712,
          1.1870857428571429,
          1.1658285942857145,
          1.1485143142857142,
          1.18,
          1.1579428514285717,
          1.1928000285714286,
          1.218628542857143,
          1.25,
          1.2441714057142856,
          1.25040004,
          1.2971999714285716,
          1.3497714685714286,
          1.3509143085714286,
          1.409028582857143,
          1.4618286114285712,
          1.4865143714285716,
          1.5186286285714288,
          1.4958857085714288,
          1.5271428571428571,
          1.5469142342857145,
          1.57228568,
          1.5968000114285714,
          1.6559999314285714,
          1.6779999657142857
         ],
         "type": "candlestick",
         "x": [
          "2018-01-01",
          "2018-01-08",
          "2018-01-15",
          "2018-01-22",
          "2018-01-29",
          "2018-02-05",
          "2018-02-12",
          "2018-02-19",
          "2018-02-26",
          "2018-03-05",
          "2018-03-12",
          "2018-03-19",
          "2018-03-26",
          "2018-04-02",
          "2018-04-09",
          "2018-04-16",
          "2018-04-23",
          "2018-04-30",
          "2018-05-07",
          "2018-05-14",
          "2018-05-21",
          "2018-05-28",
          "2018-06-04",
          "2018-06-11",
          "2018-06-18",
          "2018-06-25",
          "2018-07-02",
          "2018-07-09",
          "2018-07-16",
          "2018-07-23",
          "2018-07-30",
          "2018-08-06",
          "2018-08-13",
          "2018-08-20",
          "2018-08-27",
          "2018-09-03",
          "2018-09-10",
          "2018-09-17",
          "2018-09-24",
          "2018-10-01",
          "2018-10-08",
          "2018-10-15",
          "2018-10-22",
          "2018-10-29",
          "2018-11-05",
          "2018-11-12",
          "2018-11-19",
          "2018-11-26",
          "2018-12-03",
          "2018-12-10",
          "2018-12-17",
          "2018-12-24",
          "2018-12-31",
          "2019-01-07",
          "2019-01-14",
          "2019-01-21",
          "2019-01-28",
          "2019-02-04",
          "2019-02-11",
          "2019-02-18",
          "2019-02-25",
          "2019-03-04",
          "2019-03-11",
          "2019-03-18",
          "2019-03-25",
          "2019-04-01",
          "2019-04-08",
          "2019-04-15",
          "2019-04-22",
          "2019-04-29",
          "2019-05-06",
          "2019-05-13",
          "2019-05-20",
          "2019-05-27",
          "2019-06-03",
          "2019-06-10",
          "2019-06-17",
          "2019-06-24",
          "2019-07-01",
          "2019-07-08",
          "2019-07-15",
          "2019-07-22",
          "2019-07-29",
          "2019-08-05",
          "2019-08-12",
          "2019-08-19",
          "2019-08-26",
          "2019-09-02",
          "2019-09-09",
          "2019-09-16",
          "2019-09-23",
          "2019-09-30",
          "2019-10-07",
          "2019-10-14",
          "2019-10-21",
          "2019-10-28",
          "2019-11-04",
          "2019-11-11",
          "2019-11-18",
          "2019-11-25",
          "2019-12-02",
          "2019-12-09",
          "2019-12-16",
          "2019-12-23",
          "2019-12-30"
         ]
        }
       ],
       "layout": {
        "template": {
         "data": {
          "bar": [
           {
            "error_x": {
             "color": "#2a3f5f"
            },
            "error_y": {
             "color": "#2a3f5f"
            },
            "marker": {
             "line": {
              "color": "#E5ECF6",
              "width": 0.5
             },
             "pattern": {
              "fillmode": "overlay",
              "size": 10,
              "solidity": 0.2
             }
            },
            "type": "bar"
           }
          ],
          "barpolar": [
           {
            "marker": {
             "line": {
              "color": "#E5ECF6",
              "width": 0.5
             },
             "pattern": {
              "fillmode": "overlay",
              "size": 10,
              "solidity": 0.2
             }
            },
            "type": "barpolar"
           }
          ],
          "carpet": [
           {
            "aaxis": {
             "endlinecolor": "#2a3f5f",
             "gridcolor": "white",
             "linecolor": "white",
             "minorgridcolor": "white",
             "startlinecolor": "#2a3f5f"
            },
            "baxis": {
             "endlinecolor": "#2a3f5f",
             "gridcolor": "white",
             "linecolor": "white",
             "minorgridcolor": "white",
             "startlinecolor": "#2a3f5f"
            },
            "type": "carpet"
           }
          ],
          "choropleth": [
           {
            "colorbar": {
             "outlinewidth": 0,
             "ticks": ""
            },
            "type": "choropleth"
           }
          ],
          "contour": [
           {
            "colorbar": {
             "outlinewidth": 0,
             "ticks": ""
            },
            "colorscale": [
             [
              0,
              "#0d0887"
             ],
             [
              0.1111111111111111,
              "#46039f"
             ],
             [
              0.2222222222222222,
              "#7201a8"
             ],
             [
              0.3333333333333333,
              "#9c179e"
             ],
             [
              0.4444444444444444,
              "#bd3786"
             ],
             [
              0.5555555555555556,
              "#d8576b"
             ],
             [
              0.6666666666666666,
              "#ed7953"
             ],
             [
              0.7777777777777778,
              "#fb9f3a"
             ],
             [
              0.8888888888888888,
              "#fdca26"
             ],
             [
              1,
              "#f0f921"
             ]
            ],
            "type": "contour"
           }
          ],
          "contourcarpet": [
           {
            "colorbar": {
             "outlinewidth": 0,
             "ticks": ""
            },
            "type": "contourcarpet"
           }
          ],
          "heatmap": [
           {
            "colorbar": {
             "outlinewidth": 0,
             "ticks": ""
            },
            "colorscale": [
             [
              0,
              "#0d0887"
             ],
             [
              0.1111111111111111,
              "#46039f"
             ],
             [
              0.2222222222222222,
              "#7201a8"
             ],
             [
              0.3333333333333333,
              "#9c179e"
             ],
             [
              0.4444444444444444,
              "#bd3786"
             ],
             [
              0.5555555555555556,
              "#d8576b"
             ],
             [
              0.6666666666666666,
              "#ed7953"
             ],
             [
              0.7777777777777778,
              "#fb9f3a"
             ],
             [
              0.8888888888888888,
              "#fdca26"
             ],
             [
              1,
              "#f0f921"
             ]
            ],
            "type": "heatmap"
           }
          ],
          "heatmapgl": [
           {
            "colorbar": {
             "outlinewidth": 0,
             "ticks": ""
            },
            "colorscale": [
             [
              0,
              "#0d0887"
             ],
             [
              0.1111111111111111,
              "#46039f"
             ],
             [
              0.2222222222222222,
              "#7201a8"
             ],
             [
              0.3333333333333333,
              "#9c179e"
             ],
             [
              0.4444444444444444,
              "#bd3786"
             ],
             [
              0.5555555555555556,
              "#d8576b"
             ],
             [
              0.6666666666666666,
              "#ed7953"
             ],
             [
              0.7777777777777778,
              "#fb9f3a"
             ],
             [
              0.8888888888888888,
              "#fdca26"
             ],
             [
              1,
              "#f0f921"
             ]
            ],
            "type": "heatmapgl"
           }
          ],
          "histogram": [
           {
            "marker": {
             "pattern": {
              "fillmode": "overlay",
              "size": 10,
              "solidity": 0.2
             }
            },
            "type": "histogram"
           }
          ],
          "histogram2d": [
           {
            "colorbar": {
             "outlinewidth": 0,
             "ticks": ""
            },
            "colorscale": [
             [
              0,
              "#0d0887"
             ],
             [
              0.1111111111111111,
              "#46039f"
             ],
             [
              0.2222222222222222,
              "#7201a8"
             ],
             [
              0.3333333333333333,
              "#9c179e"
             ],
             [
              0.4444444444444444,
              "#bd3786"
             ],
             [
              0.5555555555555556,
              "#d8576b"
             ],
             [
              0.6666666666666666,
              "#ed7953"
             ],
             [
              0.7777777777777778,
              "#fb9f3a"
             ],
             [
              0.8888888888888888,
              "#fdca26"
             ],
             [
              1,
              "#f0f921"
             ]
            ],
            "type": "histogram2d"
           }
          ],
          "histogram2dcontour": [
           {
            "colorbar": {
             "outlinewidth": 0,
             "ticks": ""
            },
            "colorscale": [
             [
              0,
              "#0d0887"
             ],
             [
              0.1111111111111111,
              "#46039f"
             ],
             [
              0.2222222222222222,
              "#7201a8"
             ],
             [
              0.3333333333333333,
              "#9c179e"
             ],
             [
              0.4444444444444444,
              "#bd3786"
             ],
             [
              0.5555555555555556,
              "#d8576b"
             ],
             [
              0.6666666666666666,
              "#ed7953"
             ],
             [
              0.7777777777777778,
              "#fb9f3a"
             ],
             [
              0.8888888888888888,
              "#fdca26"
             ],
             [
              1,
              "#f0f921"
             ]
            ],
            "type": "histogram2dcontour"
           }
          ],
          "mesh3d": [
           {
            "colorbar": {
             "outlinewidth": 0,
             "ticks": ""
            },
            "type": "mesh3d"
           }
          ],
          "parcoords": [
           {
            "line": {
             "colorbar": {
              "outlinewidth": 0,
              "ticks": ""
             }
            },
            "type": "parcoords"
           }
          ],
          "pie": [
           {
            "automargin": true,
            "type": "pie"
           }
          ],
          "scatter": [
           {
            "fillpattern": {
             "fillmode": "overlay",
             "size": 10,
             "solidity": 0.2
            },
            "type": "scatter"
           }
          ],
          "scatter3d": [
           {
            "line": {
             "colorbar": {
              "outlinewidth": 0,
              "ticks": ""
             }
            },
            "marker": {
             "colorbar": {
              "outlinewidth": 0,
              "ticks": ""
             }
            },
            "type": "scatter3d"
           }
          ],
          "scattercarpet": [
           {
            "marker": {
             "colorbar": {
              "outlinewidth": 0,
              "ticks": ""
             }
            },
            "type": "scattercarpet"
           }
          ],
          "scattergeo": [
           {
            "marker": {
             "colorbar": {
              "outlinewidth": 0,
              "ticks": ""
             }
            },
            "type": "scattergeo"
           }
          ],
          "scattergl": [
           {
            "marker": {
             "colorbar": {
              "outlinewidth": 0,
              "ticks": ""
             }
            },
            "type": "scattergl"
           }
          ],
          "scattermapbox": [
           {
            "marker": {
             "colorbar": {
              "outlinewidth": 0,
              "ticks": ""
             }
            },
            "type": "scattermapbox"
           }
          ],
          "scatterpolar": [
           {
            "marker": {
             "colorbar": {
              "outlinewidth": 0,
              "ticks": ""
             }
            },
            "type": "scatterpolar"
           }
          ],
          "scatterpolargl": [
           {
            "marker": {
             "colorbar": {
              "outlinewidth": 0,
              "ticks": ""
             }
            },
            "type": "scatterpolargl"
           }
          ],
          "scatterternary": [
           {
            "marker": {
             "colorbar": {
              "outlinewidth": 0,
              "ticks": ""
             }
            },
            "type": "scatterternary"
           }
          ],
          "surface": [
           {
            "colorbar": {
             "outlinewidth": 0,
             "ticks": ""
            },
            "colorscale": [
             [
              0,
              "#0d0887"
             ],
             [
              0.1111111111111111,
              "#46039f"
             ],
             [
              0.2222222222222222,
              "#7201a8"
             ],
             [
              0.3333333333333333,
              "#9c179e"
             ],
             [
              0.4444444444444444,
              "#bd3786"
             ],
             [
              0.5555555555555556,
              "#d8576b"
             ],
             [
              0.6666666666666666,
              "#ed7953"
             ],
             [
              0.7777777777777778,
              "#fb9f3a"
             ],
             [
              0.8888888888888888,
              "#fdca26"
             ],
             [
              1,
              "#f0f921"
             ]
            ],
            "type": "surface"
           }
          ],
          "table": [
           {
            "cells": {
             "fill": {
              "color": "#EBF0F8"
             },
             "line": {
              "color": "white"
             }
            },
            "header": {
             "fill": {
              "color": "#C8D4E3"
             },
             "line": {
              "color": "white"
             }
            },
            "type": "table"
           }
          ]
         },
         "layout": {
          "annotationdefaults": {
           "arrowcolor": "#2a3f5f",
           "arrowhead": 0,
           "arrowwidth": 1
          },
          "autotypenumbers": "strict",
          "coloraxis": {
           "colorbar": {
            "outlinewidth": 0,
            "ticks": ""
           }
          },
          "colorscale": {
           "diverging": [
            [
             0,
             "#8e0152"
            ],
            [
             0.1,
             "#c51b7d"
            ],
            [
             0.2,
             "#de77ae"
            ],
            [
             0.3,
             "#f1b6da"
            ],
            [
             0.4,
             "#fde0ef"
            ],
            [
             0.5,
             "#f7f7f7"
            ],
            [
             0.6,
             "#e6f5d0"
            ],
            [
             0.7,
             "#b8e186"
            ],
            [
             0.8,
             "#7fbc41"
            ],
            [
             0.9,
             "#4d9221"
            ],
            [
             1,
             "#276419"
            ]
           ],
           "sequential": [
            [
             0,
             "#0d0887"
            ],
            [
             0.1111111111111111,
             "#46039f"
            ],
            [
             0.2222222222222222,
             "#7201a8"
            ],
            [
             0.3333333333333333,
             "#9c179e"
            ],
            [
             0.4444444444444444,
             "#bd3786"
            ],
            [
             0.5555555555555556,
             "#d8576b"
            ],
            [
             0.6666666666666666,
             "#ed7953"
            ],
            [
             0.7777777777777778,
             "#fb9f3a"
            ],
            [
             0.8888888888888888,
             "#fdca26"
            ],
            [
             1,
             "#f0f921"
            ]
           ],
           "sequentialminus": [
            [
             0,
             "#0d0887"
            ],
            [
             0.1111111111111111,
             "#46039f"
            ],
            [
             0.2222222222222222,
             "#7201a8"
            ],
            [
             0.3333333333333333,
             "#9c179e"
            ],
            [
             0.4444444444444444,
             "#bd3786"
            ],
            [
             0.5555555555555556,
             "#d8576b"
            ],
            [
             0.6666666666666666,
             "#ed7953"
            ],
            [
             0.7777777777777778,
             "#fb9f3a"
            ],
            [
             0.8888888888888888,
             "#fdca26"
            ],
            [
             1,
             "#f0f921"
            ]
           ]
          },
          "colorway": [
           "#636efa",
           "#EF553B",
           "#00cc96",
           "#ab63fa",
           "#FFA15A",
           "#19d3f3",
           "#FF6692",
           "#B6E880",
           "#FF97FF",
           "#FECB52"
          ],
          "font": {
           "color": "#2a3f5f"
          },
          "geo": {
           "bgcolor": "white",
           "lakecolor": "white",
           "landcolor": "#E5ECF6",
           "showlakes": true,
           "showland": true,
           "subunitcolor": "white"
          },
          "hoverlabel": {
           "align": "left"
          },
          "hovermode": "closest",
          "mapbox": {
           "style": "light"
          },
          "paper_bgcolor": "white",
          "plot_bgcolor": "#E5ECF6",
          "polar": {
           "angularaxis": {
            "gridcolor": "white",
            "linecolor": "white",
            "ticks": ""
           },
           "bgcolor": "#E5ECF6",
           "radialaxis": {
            "gridcolor": "white",
            "linecolor": "white",
            "ticks": ""
           }
          },
          "scene": {
           "xaxis": {
            "backgroundcolor": "#E5ECF6",
            "gridcolor": "white",
            "gridwidth": 2,
            "linecolor": "white",
            "showbackground": true,
            "ticks": "",
            "zerolinecolor": "white"
           },
           "yaxis": {
            "backgroundcolor": "#E5ECF6",
            "gridcolor": "white",
            "gridwidth": 2,
            "linecolor": "white",
            "showbackground": true,
            "ticks": "",
            "zerolinecolor": "white"
           },
           "zaxis": {
            "backgroundcolor": "#E5ECF6",
            "gridcolor": "white",
            "gridwidth": 2,
            "linecolor": "white",
            "showbackground": true,
            "ticks": "",
            "zerolinecolor": "white"
           }
          },
          "shapedefaults": {
           "line": {
            "color": "#2a3f5f"
           }
          },
          "ternary": {
           "aaxis": {
            "gridcolor": "white",
            "linecolor": "white",
            "ticks": ""
           },
           "baxis": {
            "gridcolor": "white",
            "linecolor": "white",
            "ticks": ""
           },
           "bgcolor": "#E5ECF6",
           "caxis": {
            "gridcolor": "white",
            "linecolor": "white",
            "ticks": ""
           }
          },
          "title": {
           "x": 0.05
          },
          "xaxis": {
           "automargin": true,
           "gridcolor": "white",
           "linecolor": "white",
           "ticks": "",
           "title": {
            "standoff": 15
           },
           "zerolinecolor": "white",
           "zerolinewidth": 2
          },
          "yaxis": {
           "automargin": true,
           "gridcolor": "white",
           "linecolor": "white",
           "ticks": "",
           "title": {
            "standoff": 15
           },
           "zerolinecolor": "white",
           "zerolinewidth": 2
          }
         }
        },
        "title": {
         "text": "Stocks"
        },
        "xaxis": {
         "rangeslider": {
          "visible": false
         },
         "title": {
          "text": "Time"
         }
        },
        "yaxis": {
         "title": {
          "text": "Percent Change?"
         }
        }
       }
      },
      "text/html": [
       "<div>                            <div id=\"024b909f-d003-4f04-a34c-6b778f4b358c\" class=\"plotly-graph-div\" style=\"height:525px; width:100%;\"></div>            <script type=\"text/javascript\">                require([\"plotly\"], function(Plotly) {                    window.PLOTLYENV=window.PLOTLYENV || {};                                    if (document.getElementById(\"024b909f-d003-4f04-a34c-6b778f4b358c\")) {                    Plotly.newPlot(                        \"024b909f-d003-4f04-a34c-6b778f4b358c\",                        [{\"close\":[1.0,1.0535263142643383,1.0498595254569378,1.3076813155940448,1.273536771428717,1.188008929282134,1.3263487897912096,1.3616362026373592,1.4336396058469547,1.5783608462698024,1.5165008067883996,1.4331158380609592,1.406495542490225,1.375541688281783,1.484118227436587,1.5608837620628662,1.484642138086525,1.5243106261176576,1.5546453794312736,1.5437877293254985,1.6728891882258874,1.7140339274719294,1.7170817582484463,1.866660325094997,1.9576645850358447,1.864041067097456,1.94414015086099,1.884851557577705,1.7193674908479577,1.691556657660921,1.633839648701375,1.647078369277624,1.50854798541483,1.7087480282692504,1.7509404459512254,1.660459949034241,1.7360826197418304,1.720034255916133,1.7816562507344105,1.6731749018244944,1.617029334324746,1.5842183202957685,1.4278298007564696,1.4719748494696214,1.4451640257830367,1.3629695899097676,1.2325348866009125,1.3625886860662726,1.262631595251403,1.2707271281792676,1.1733415549944868,1.2194865512765718,1.4170674789973934,1.6076479259096166,1.6148387919701228,1.6098384682642397,1.6184103905326357,1.6551740498315624,1.699461814861141,1.7287488945009553,1.7016048311442251,1.6648411718452985,1.721319979015192,1.7191771103581814,1.6979855684083631,1.7405113638622944,1.6721748970861734,1.716034084574645,1.7850849901165535,1.8335634546034707,1.7193199695385504,1.6879375377890014,1.6876518241903944,1.6347444679569396,1.7185103405278743,1.6178389585732904,1.758226497494488,1.7492261453110591,1.8122290534732837,1.7774655512770718,1.5005476379697218,1.5990284823318142,1.518310297673454,1.471165225221077,1.4419733358261506,1.3878755896024673,1.398876103650743,1.381827735086725,1.400780927644628,1.2893470810670251,1.2528214711933554,1.299061872016242,1.347349808387309,1.3110147218673576,1.3182532521012131,1.3658269020946976,1.388494690497293,1.4049716271019663,1.4785466146353017,1.4984522906221185,1.4636411194904255,1.421496227879989,1.6043620457078422,1.567169808867808,1.5408828958311611],\"high\":[1.0,1.018172278347936,1.032007866452698,1.066782783389724,1.0087731636550117,0.9415276737437316,0.99325918262539,1.0222821547641083,0.9788520214265992,1.0524482730908842,1.0303929312465263,0.926821104067592,0.9360932452590338,0.913638710861412,0.93380695379017,0.9734447261178653,0.9345146364100892,0.9509902470625956,0.9963982380519172,0.9674568868105002,0.9758943718805396,1.015668254641377,1.0169111849053498,1.0453898287179595,1.0483111519067918,1.0121753574512644,1.0344211867653972,1.0785588920381208,1.075011617811375,1.1236312044424703,1.1102129167272332,1.1228237368393843,1.0895729410299655,1.1074367837463466,1.1052048693141154,1.0567939333314087,1.0637798374890872,1.0579370795194665,1.0827776350267664,1.0500077089175164,1.007121903906116,0.9947651405743836,0.9720929301886708,0.959681788913054,0.9672663993407256,0.9630385756700248,0.9289168536315806,0.992923504040418,0.9404389054995582,0.945446952912676,0.8886892896888904,0.9408925313390586,0.9714034098401132,0.9591373489949891,0.9963982380519172,0.989802500200548,1.0077298024501202,0.9934950771344468,1.0103608540932627,1.0073850422758417,1.035165084150587,1.0363716889645844,1.0746032883264525,1.0936918990354445,1.064487521016258,1.095188886079836,1.1049145977684258,1.1216987538299403,1.1541874899828073,1.075456162061569,1.0562859304552756,1.0544986709579427,1.0283425342867192,1.001270175031893,0.9671666152648106,0.98468558802946,1.0178275181736574,0.980657443195294,1.0266368965939394,1.0387124690620373,1.025285100664745,1.1344366027859267,1.0832494231376286,1.0778240762422375,1.068379555417282,1.0445098208996275,1.0779056980467905,1.0931748145700046,1.12459294475006,1.115856106545024,1.1114649285805127,1.0968672799119472,1.10271900878617,1.129972884606169,1.1477913211905195,1.155602744537941,1.189742629754999,1.2110630442115171,1.1751993590303178,1.183927115646047,1.216279741365772,1.222820990588552,1.22441776261611,1.2265044859331442,1.213013658002661],\"low\":[1.0,1.0618806117055757,1.0532404284307677,1.1406756202628388,1.1633743377885228,1.0898676795580526,1.1786207619316666,1.2203654438831366,1.2205688381237838,1.284548542665418,1.2786826844946546,1.2167532101702832,1.1775224533715958,1.1432627388670606,1.16405781403187,1.242730666448932,1.2794473988384474,1.2862244591394254,1.3040906767647622,1.2808711585229775,1.3099809658381354,1.3355191588974509,1.3700554610940725,1.3960736368996989,1.3958296232020404,1.3829181608736414,1.391729163581091,1.4750394640760272,1.4755844971819587,1.4784890230752108,1.4833867718479574,1.5346502643964448,1.5313308069300795,1.5501814209506477,1.637494456642517,1.5881591374274802,1.6029011479217037,1.5580080272628667,1.6295946560652816,1.5373757268816928,1.4551718788522234,1.435174192909178,1.3365524179114776,1.3550368620941855,1.3931936419790223,1.2963616956201691,1.22204146042711,1.375083410656027,1.3254226411301075,1.295141330176286,1.1206615472526131,1.202483038516975,1.2817010232963573,1.334721869745653,1.3799892040777797,1.359137222458745,1.3230632475991762,1.2921391799289847,1.3081910371293215,1.3273996770823542,1.3600809993969647,1.3186455808291295,1.393136635454831,1.435776232539301,1.4487771761299302,1.4947687054188046,1.4994712046698764,1.5146280474808236,1.5869876346023932,1.596612214272432,1.537644171481961,1.5205753430783882,1.483378627942562,1.44415601504927,1.4677172714127285,1.521120475440709,1.5549896884611636,1.540613747734834,1.58070684404494,1.6361032717659916,1.5982882308164057,1.5808207570233568,1.4833460531345568,1.4706054102388,1.4583936118945735,1.4234505212166575,1.445148654606286,1.491701504811883,1.4964446227063888,1.4596872708598625,1.4037863302335007,1.4153391824933792,1.4090502488441077,1.4298696556551374,1.43297747571907,1.4574742658589632,1.452950830015895,1.4152089825177483,1.420277551536714,1.465089434095106,1.425061388144621,1.4326601685000062,1.4534552436648156,1.52122624451373,1.503360026888393],\"open\":[1.0,1.0119428342857142,1.0197714685714288,0.9800571142857144,0.9171428571428571,0.8937714514285715,0.9853142457142856,1.002857142857143,1.006914325714286,1.02845712,1.0172571657142857,0.9425142971428572,0.9587428514285714,0.9621714571428572,0.99845712,0.9469714342857144,0.9275428971428572,1.0504571542857144,1.07765712,1.06462856,1.0776000114285715,1.0870857428571428,1.0954285542857145,1.0790856914285714,1.0566857028571428,1.0577714342857143,1.0741142914285715,1.093314297142857,1.0939428685714283,1.0913142628571428,1.1885143142857142,1.1858857085714285,1.2433142971428572,1.235200022857143,1.3007428857142855,1.2645714457142856,1.279085691428571,1.2437714514285716,1.2899428857142856,1.2816571028571428,1.2692000057142856,1.253199988571429,1.236000017142857,1.1855999771428571,1.1684000057142856,1.1058857085714286,0.9845142457142856,1.0204571542857144,0.9628000285714284,0.9455999771428572,0.8613142628571429,0.8927428342857143,0.8471999714285714,0.8702285314285714,0.8961143257142857,0.9014856857142858,0.95154288,0.9737714514285716,0.97382856,0.9884000057142855,0.9998285771428572,0.9880571657142858,1.0635428285714286,1.0917143028571428,1.0854285542857145,1.1257142857142857,1.1363999714285713,1.1649142914285715,1.1674285885714286,1.21,1.126742817142857,1.08,1.02268572,1.00040004,1.0865713942857145,1.1013714571428572,1.135885708571429,1.130971417142857,1.167028548571429,1.1617143028571428,1.15765712,1.1870857428571429,1.1658285942857145,1.1485143142857142,1.18,1.1579428514285717,1.1928000285714286,1.218628542857143,1.25,1.2441714057142856,1.25040004,1.2971999714285716,1.3497714685714286,1.3509143085714286,1.409028582857143,1.4618286114285712,1.4865143714285716,1.5186286285714288,1.4958857085714288,1.5271428571428571,1.5469142342857145,1.57228568,1.5968000114285714,1.6559999314285714,1.6779999657142857],\"x\":[\"2018-01-01\",\"2018-01-08\",\"2018-01-15\",\"2018-01-22\",\"2018-01-29\",\"2018-02-05\",\"2018-02-12\",\"2018-02-19\",\"2018-02-26\",\"2018-03-05\",\"2018-03-12\",\"2018-03-19\",\"2018-03-26\",\"2018-04-02\",\"2018-04-09\",\"2018-04-16\",\"2018-04-23\",\"2018-04-30\",\"2018-05-07\",\"2018-05-14\",\"2018-05-21\",\"2018-05-28\",\"2018-06-04\",\"2018-06-11\",\"2018-06-18\",\"2018-06-25\",\"2018-07-02\",\"2018-07-09\",\"2018-07-16\",\"2018-07-23\",\"2018-07-30\",\"2018-08-06\",\"2018-08-13\",\"2018-08-20\",\"2018-08-27\",\"2018-09-03\",\"2018-09-10\",\"2018-09-17\",\"2018-09-24\",\"2018-10-01\",\"2018-10-08\",\"2018-10-15\",\"2018-10-22\",\"2018-10-29\",\"2018-11-05\",\"2018-11-12\",\"2018-11-19\",\"2018-11-26\",\"2018-12-03\",\"2018-12-10\",\"2018-12-17\",\"2018-12-24\",\"2018-12-31\",\"2019-01-07\",\"2019-01-14\",\"2019-01-21\",\"2019-01-28\",\"2019-02-04\",\"2019-02-11\",\"2019-02-18\",\"2019-02-25\",\"2019-03-04\",\"2019-03-11\",\"2019-03-18\",\"2019-03-25\",\"2019-04-01\",\"2019-04-08\",\"2019-04-15\",\"2019-04-22\",\"2019-04-29\",\"2019-05-06\",\"2019-05-13\",\"2019-05-20\",\"2019-05-27\",\"2019-06-03\",\"2019-06-10\",\"2019-06-17\",\"2019-06-24\",\"2019-07-01\",\"2019-07-08\",\"2019-07-15\",\"2019-07-22\",\"2019-07-29\",\"2019-08-05\",\"2019-08-12\",\"2019-08-19\",\"2019-08-26\",\"2019-09-02\",\"2019-09-09\",\"2019-09-16\",\"2019-09-23\",\"2019-09-30\",\"2019-10-07\",\"2019-10-14\",\"2019-10-21\",\"2019-10-28\",\"2019-11-04\",\"2019-11-11\",\"2019-11-18\",\"2019-11-25\",\"2019-12-02\",\"2019-12-09\",\"2019-12-16\",\"2019-12-23\",\"2019-12-30\"],\"type\":\"candlestick\"}],                        {\"template\":{\"data\":{\"histogram2dcontour\":[{\"type\":\"histogram2dcontour\",\"colorbar\":{\"outlinewidth\":0,\"ticks\":\"\"},\"colorscale\":[[0.0,\"#0d0887\"],[0.1111111111111111,\"#46039f\"],[0.2222222222222222,\"#7201a8\"],[0.3333333333333333,\"#9c179e\"],[0.4444444444444444,\"#bd3786\"],[0.5555555555555556,\"#d8576b\"],[0.6666666666666666,\"#ed7953\"],[0.7777777777777778,\"#fb9f3a\"],[0.8888888888888888,\"#fdca26\"],[1.0,\"#f0f921\"]]}],\"choropleth\":[{\"type\":\"choropleth\",\"colorbar\":{\"outlinewidth\":0,\"ticks\":\"\"}}],\"histogram2d\":[{\"type\":\"histogram2d\",\"colorbar\":{\"outlinewidth\":0,\"ticks\":\"\"},\"colorscale\":[[0.0,\"#0d0887\"],[0.1111111111111111,\"#46039f\"],[0.2222222222222222,\"#7201a8\"],[0.3333333333333333,\"#9c179e\"],[0.4444444444444444,\"#bd3786\"],[0.5555555555555556,\"#d8576b\"],[0.6666666666666666,\"#ed7953\"],[0.7777777777777778,\"#fb9f3a\"],[0.8888888888888888,\"#fdca26\"],[1.0,\"#f0f921\"]]}],\"heatmap\":[{\"type\":\"heatmap\",\"colorbar\":{\"outlinewidth\":0,\"ticks\":\"\"},\"colorscale\":[[0.0,\"#0d0887\"],[0.1111111111111111,\"#46039f\"],[0.2222222222222222,\"#7201a8\"],[0.3333333333333333,\"#9c179e\"],[0.4444444444444444,\"#bd3786\"],[0.5555555555555556,\"#d8576b\"],[0.6666666666666666,\"#ed7953\"],[0.7777777777777778,\"#fb9f3a\"],[0.8888888888888888,\"#fdca26\"],[1.0,\"#f0f921\"]]}],\"heatmapgl\":[{\"type\":\"heatmapgl\",\"colorbar\":{\"outlinewidth\":0,\"ticks\":\"\"},\"colorscale\":[[0.0,\"#0d0887\"],[0.1111111111111111,\"#46039f\"],[0.2222222222222222,\"#7201a8\"],[0.3333333333333333,\"#9c179e\"],[0.4444444444444444,\"#bd3786\"],[0.5555555555555556,\"#d8576b\"],[0.6666666666666666,\"#ed7953\"],[0.7777777777777778,\"#fb9f3a\"],[0.8888888888888888,\"#fdca26\"],[1.0,\"#f0f921\"]]}],\"contourcarpet\":[{\"type\":\"contourcarpet\",\"colorbar\":{\"outlinewidth\":0,\"ticks\":\"\"}}],\"contour\":[{\"type\":\"contour\",\"colorbar\":{\"outlinewidth\":0,\"ticks\":\"\"},\"colorscale\":[[0.0,\"#0d0887\"],[0.1111111111111111,\"#46039f\"],[0.2222222222222222,\"#7201a8\"],[0.3333333333333333,\"#9c179e\"],[0.4444444444444444,\"#bd3786\"],[0.5555555555555556,\"#d8576b\"],[0.6666666666666666,\"#ed7953\"],[0.7777777777777778,\"#fb9f3a\"],[0.8888888888888888,\"#fdca26\"],[1.0,\"#f0f921\"]]}],\"surface\":[{\"type\":\"surface\",\"colorbar\":{\"outlinewidth\":0,\"ticks\":\"\"},\"colorscale\":[[0.0,\"#0d0887\"],[0.1111111111111111,\"#46039f\"],[0.2222222222222222,\"#7201a8\"],[0.3333333333333333,\"#9c179e\"],[0.4444444444444444,\"#bd3786\"],[0.5555555555555556,\"#d8576b\"],[0.6666666666666666,\"#ed7953\"],[0.7777777777777778,\"#fb9f3a\"],[0.8888888888888888,\"#fdca26\"],[1.0,\"#f0f921\"]]}],\"mesh3d\":[{\"type\":\"mesh3d\",\"colorbar\":{\"outlinewidth\":0,\"ticks\":\"\"}}],\"scatter\":[{\"fillpattern\":{\"fillmode\":\"overlay\",\"size\":10,\"solidity\":0.2},\"type\":\"scatter\"}],\"parcoords\":[{\"type\":\"parcoords\",\"line\":{\"colorbar\":{\"outlinewidth\":0,\"ticks\":\"\"}}}],\"scatterpolargl\":[{\"type\":\"scatterpolargl\",\"marker\":{\"colorbar\":{\"outlinewidth\":0,\"ticks\":\"\"}}}],\"bar\":[{\"error_x\":{\"color\":\"#2a3f5f\"},\"error_y\":{\"color\":\"#2a3f5f\"},\"marker\":{\"line\":{\"color\":\"#E5ECF6\",\"width\":0.5},\"pattern\":{\"fillmode\":\"overlay\",\"size\":10,\"solidity\":0.2}},\"type\":\"bar\"}],\"scattergeo\":[{\"type\":\"scattergeo\",\"marker\":{\"colorbar\":{\"outlinewidth\":0,\"ticks\":\"\"}}}],\"scatterpolar\":[{\"type\":\"scatterpolar\",\"marker\":{\"colorbar\":{\"outlinewidth\":0,\"ticks\":\"\"}}}],\"histogram\":[{\"marker\":{\"pattern\":{\"fillmode\":\"overlay\",\"size\":10,\"solidity\":0.2}},\"type\":\"histogram\"}],\"scattergl\":[{\"type\":\"scattergl\",\"marker\":{\"colorbar\":{\"outlinewidth\":0,\"ticks\":\"\"}}}],\"scatter3d\":[{\"type\":\"scatter3d\",\"line\":{\"colorbar\":{\"outlinewidth\":0,\"ticks\":\"\"}},\"marker\":{\"colorbar\":{\"outlinewidth\":0,\"ticks\":\"\"}}}],\"scattermapbox\":[{\"type\":\"scattermapbox\",\"marker\":{\"colorbar\":{\"outlinewidth\":0,\"ticks\":\"\"}}}],\"scatterternary\":[{\"type\":\"scatterternary\",\"marker\":{\"colorbar\":{\"outlinewidth\":0,\"ticks\":\"\"}}}],\"scattercarpet\":[{\"type\":\"scattercarpet\",\"marker\":{\"colorbar\":{\"outlinewidth\":0,\"ticks\":\"\"}}}],\"carpet\":[{\"aaxis\":{\"endlinecolor\":\"#2a3f5f\",\"gridcolor\":\"white\",\"linecolor\":\"white\",\"minorgridcolor\":\"white\",\"startlinecolor\":\"#2a3f5f\"},\"baxis\":{\"endlinecolor\":\"#2a3f5f\",\"gridcolor\":\"white\",\"linecolor\":\"white\",\"minorgridcolor\":\"white\",\"startlinecolor\":\"#2a3f5f\"},\"type\":\"carpet\"}],\"table\":[{\"cells\":{\"fill\":{\"color\":\"#EBF0F8\"},\"line\":{\"color\":\"white\"}},\"header\":{\"fill\":{\"color\":\"#C8D4E3\"},\"line\":{\"color\":\"white\"}},\"type\":\"table\"}],\"barpolar\":[{\"marker\":{\"line\":{\"color\":\"#E5ECF6\",\"width\":0.5},\"pattern\":{\"fillmode\":\"overlay\",\"size\":10,\"solidity\":0.2}},\"type\":\"barpolar\"}],\"pie\":[{\"automargin\":true,\"type\":\"pie\"}]},\"layout\":{\"autotypenumbers\":\"strict\",\"colorway\":[\"#636efa\",\"#EF553B\",\"#00cc96\",\"#ab63fa\",\"#FFA15A\",\"#19d3f3\",\"#FF6692\",\"#B6E880\",\"#FF97FF\",\"#FECB52\"],\"font\":{\"color\":\"#2a3f5f\"},\"hovermode\":\"closest\",\"hoverlabel\":{\"align\":\"left\"},\"paper_bgcolor\":\"white\",\"plot_bgcolor\":\"#E5ECF6\",\"polar\":{\"bgcolor\":\"#E5ECF6\",\"angularaxis\":{\"gridcolor\":\"white\",\"linecolor\":\"white\",\"ticks\":\"\"},\"radialaxis\":{\"gridcolor\":\"white\",\"linecolor\":\"white\",\"ticks\":\"\"}},\"ternary\":{\"bgcolor\":\"#E5ECF6\",\"aaxis\":{\"gridcolor\":\"white\",\"linecolor\":\"white\",\"ticks\":\"\"},\"baxis\":{\"gridcolor\":\"white\",\"linecolor\":\"white\",\"ticks\":\"\"},\"caxis\":{\"gridcolor\":\"white\",\"linecolor\":\"white\",\"ticks\":\"\"}},\"coloraxis\":{\"colorbar\":{\"outlinewidth\":0,\"ticks\":\"\"}},\"colorscale\":{\"sequential\":[[0.0,\"#0d0887\"],[0.1111111111111111,\"#46039f\"],[0.2222222222222222,\"#7201a8\"],[0.3333333333333333,\"#9c179e\"],[0.4444444444444444,\"#bd3786\"],[0.5555555555555556,\"#d8576b\"],[0.6666666666666666,\"#ed7953\"],[0.7777777777777778,\"#fb9f3a\"],[0.8888888888888888,\"#fdca26\"],[1.0,\"#f0f921\"]],\"sequentialminus\":[[0.0,\"#0d0887\"],[0.1111111111111111,\"#46039f\"],[0.2222222222222222,\"#7201a8\"],[0.3333333333333333,\"#9c179e\"],[0.4444444444444444,\"#bd3786\"],[0.5555555555555556,\"#d8576b\"],[0.6666666666666666,\"#ed7953\"],[0.7777777777777778,\"#fb9f3a\"],[0.8888888888888888,\"#fdca26\"],[1.0,\"#f0f921\"]],\"diverging\":[[0,\"#8e0152\"],[0.1,\"#c51b7d\"],[0.2,\"#de77ae\"],[0.3,\"#f1b6da\"],[0.4,\"#fde0ef\"],[0.5,\"#f7f7f7\"],[0.6,\"#e6f5d0\"],[0.7,\"#b8e186\"],[0.8,\"#7fbc41\"],[0.9,\"#4d9221\"],[1,\"#276419\"]]},\"xaxis\":{\"gridcolor\":\"white\",\"linecolor\":\"white\",\"ticks\":\"\",\"title\":{\"standoff\":15},\"zerolinecolor\":\"white\",\"automargin\":true,\"zerolinewidth\":2},\"yaxis\":{\"gridcolor\":\"white\",\"linecolor\":\"white\",\"ticks\":\"\",\"title\":{\"standoff\":15},\"zerolinecolor\":\"white\",\"automargin\":true,\"zerolinewidth\":2},\"scene\":{\"xaxis\":{\"backgroundcolor\":\"#E5ECF6\",\"gridcolor\":\"white\",\"linecolor\":\"white\",\"showbackground\":true,\"ticks\":\"\",\"zerolinecolor\":\"white\",\"gridwidth\":2},\"yaxis\":{\"backgroundcolor\":\"#E5ECF6\",\"gridcolor\":\"white\",\"linecolor\":\"white\",\"showbackground\":true,\"ticks\":\"\",\"zerolinecolor\":\"white\",\"gridwidth\":2},\"zaxis\":{\"backgroundcolor\":\"#E5ECF6\",\"gridcolor\":\"white\",\"linecolor\":\"white\",\"showbackground\":true,\"ticks\":\"\",\"zerolinecolor\":\"white\",\"gridwidth\":2}},\"shapedefaults\":{\"line\":{\"color\":\"#2a3f5f\"}},\"annotationdefaults\":{\"arrowcolor\":\"#2a3f5f\",\"arrowhead\":0,\"arrowwidth\":1},\"geo\":{\"bgcolor\":\"white\",\"landcolor\":\"#E5ECF6\",\"subunitcolor\":\"white\",\"showland\":true,\"showlakes\":true,\"lakecolor\":\"white\"},\"title\":{\"x\":0.05},\"mapbox\":{\"style\":\"light\"}}},\"xaxis\":{\"rangeslider\":{\"visible\":false},\"title\":{\"text\":\"Time\"}},\"yaxis\":{\"title\":{\"text\":\"Percent Change?\"}},\"title\":{\"text\":\"Stocks\"}},                        {\"responsive\": true}                    ).then(function(){\n",
       "                            \n",
       "var gd = document.getElementById('024b909f-d003-4f04-a34c-6b778f4b358c');\n",
       "var x = new MutationObserver(function (mutations, observer) {{\n",
       "        var display = window.getComputedStyle(gd).display;\n",
       "        if (!display || display === 'none') {{\n",
       "            console.log([gd, 'removed!']);\n",
       "            Plotly.purge(gd);\n",
       "            observer.disconnect();\n",
       "        }}\n",
       "}});\n",
       "\n",
       "// Listen for the removal of the full notebook cells\n",
       "var notebookContainer = gd.closest('#notebook-container');\n",
       "if (notebookContainer) {{\n",
       "    x.observe(notebookContainer, {childList: true});\n",
       "}}\n",
       "\n",
       "// Listen for the clearing of the current output cell\n",
       "var outputEl = gd.closest('.output');\n",
       "if (outputEl) {{\n",
       "    x.observe(outputEl, {childList: true});\n",
       "}}\n",
       "\n",
       "                        })                };                });            </script>        </div>"
      ]
     },
     "metadata": {},
     "output_type": "display_data"
    }
   ],
   "source": [
    "\n",
    "import plotly.graph_objects as go\n",
    "import pandas as pd\n",
    "\n",
    "fig = go.Figure(data=[go.Candlestick(x=dataframe['date'],\n",
    "                open=dataframe['AAPL'], high=dataframe['GOOG'],\n",
    "                low=dataframe['AMZN'], close=dataframe['NFLX'])\n",
    "                     ])\n",
    "\n",
    "fig.update_layout(xaxis_title=\"Time\", yaxis_title=\"Percent Change?\",title=\"Stocks\",xaxis_rangeslider_visible=False)\n",
    "fig.show()\n",
    "\n"
   ]
  },
  {
   "cell_type": "markdown",
   "metadata": {
    "id": "ybbrqSTypszA"
   },
   "source": [
    "---\n",
    "\n",
    "# Part 4: Finishing (5 points)\n",
    "\n",
    "\n",
    "&#9989; Have you put **your name** and **GitHub username** at the top of your notebook?\n",
    "\n",
    "&#9989; Have you added the **TA** and **Instructor** to your GitHub repository?\n",
    "\n",
    "&#9989; Merge your `homework_01` branch into the `main` branch and checkout the `main` branch\n",
    "\n",
    "```bash\n",
    "\n",
    "# \n",
    "git pull \n",
    "git merge Sugrue\n",
    "git push\n",
    "```\n",
    "\n",
    "\n",
    "&#9989; Push your repository to GitHub.\n",
    "\n",
    "\n",
    "```bash\n",
    "\n",
    "# \n",
    "git add HW1_S23-STUDENT.ipynb\n",
    "git commit -m \"Fun text\"\n",
    "git push\n",
    "\n",
    "```\n",
    "\n",
    "\n",
    "**NOTE:** The grader is able to see your commit messages, branches and whether you pushed the repo at this stage.\n"
   ]
  },
  {
   "cell_type": "markdown",
   "metadata": {
    "id": "P5sGvK7sqNoX"
   },
   "source": [
    "---\n",
    "## Assignment wrap-up"
   ]
  },
  {
   "cell_type": "markdown",
   "metadata": {
    "id": "fEw79O_XqO93"
   },
   "source": [
    "### Congratulations, you're done!\n",
    "\n",
    "Submit this assignment by uploading it to the course Desire2Learn web page.  Go to the **\"Homework Assignments\"** folder, find the dropbox link for Homework #1, and upload it there."
   ]
  },
  {
   "cell_type": "markdown",
   "metadata": {
    "id": "olTHsASyqTP6"
   },
   "source": [
    "&#169; Copyright 2023,  Department of Computational Mathematics, Science and Engineering at Michigan State University"
   ]
  }
 ],
 "metadata": {
  "colab": {
   "provenance": []
  },
  "kernelspec": {
   "display_name": "Python 3",
   "language": "python",
   "name": "python3"
  },
  "language_info": {
   "codemirror_mode": {
    "name": "ipython",
    "version": 3
   },
   "file_extension": ".py",
   "mimetype": "text/x-python",
   "name": "python",
   "nbconvert_exporter": "python",
   "pygments_lexer": "ipython3",
   "version": "3.8.8"
  },
  "vscode": {
   "interpreter": {
    "hash": "31f2aee4e71d21fbe5cf8b01ff0e069b9275f58929596ceb00d14d90e3e16cd6"
   }
  }
 },
 "nbformat": 4,
 "nbformat_minor": 4
}
